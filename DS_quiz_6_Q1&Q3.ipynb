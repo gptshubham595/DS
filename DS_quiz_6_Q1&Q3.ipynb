{
  "nbformat": 4,
  "nbformat_minor": 0,
  "metadata": {
    "colab": {
      "name": "DS_quiz-6.ipynb",
      "provenance": []
    },
    "kernelspec": {
      "name": "python3",
      "display_name": "Python 3"
    },
    "language_info": {
      "name": "python"
    }
  },
  "cells": [
    {
      "cell_type": "markdown",
      "source": [
        "##Q1"
      ],
      "metadata": {
        "id": "lGDNoRV3QA7J"
      }
    },
    {
      "cell_type": "code",
      "execution_count": 1,
      "metadata": {
        "colab": {
          "base_uri": "https://localhost:8080/"
        },
        "id": "Eyh9qh3dFV7r",
        "outputId": "5a0a6202-a551-47a1-e848-02df0ca504b6"
      },
      "outputs": [
        {
          "output_type": "stream",
          "name": "stdout",
          "text": [
            "[[0.5815 0.7778]]\n"
          ]
        }
      ],
      "source": [
        "import numpy as np\n",
        "x = np.array([[-3.2, 4.1, 0.163]])\n",
        "w1 = np.array([[0.1, 0.3],[0.2, 0.4], [0.5, 0.6]])\n",
        "o1 = np.dot(x, w1)\n",
        "print(o1)"
      ]
    },
    {
      "cell_type": "code",
      "source": [
        "def Sigmoid(a):\n",
        "  h = 1/(1+np.exp(a))\n",
        "  return h"
      ],
      "metadata": {
        "id": "AghNPlCbJmG-"
      },
      "execution_count": 2,
      "outputs": []
    },
    {
      "cell_type": "code",
      "source": [
        "def Tanh(a):\n",
        "  c = np.exp(a)\n",
        "  d = np.exp(-1*a)\n",
        "  h = (d-c)/(d+c)\n",
        "  return h"
      ],
      "metadata": {
        "id": "lw8O4SIaMbCx"
      },
      "execution_count": 3,
      "outputs": []
    },
    {
      "cell_type": "code",
      "source": [
        "def Relu(a):\n",
        "  h = a\n",
        "  for i in range(len(h.T)):\n",
        "    if(h[0][i]<0):\n",
        "      h[0][i] = 0\n",
        "  return h"
      ],
      "metadata": {
        "id": "EJR2e7sVNDmd"
      },
      "execution_count": 4,
      "outputs": []
    },
    {
      "cell_type": "code",
      "source": [
        "h1 = Sigmoid(o1)\n",
        "print(h1)"
      ],
      "metadata": {
        "colab": {
          "base_uri": "https://localhost:8080/"
        },
        "id": "rz4JEdbcKK-W",
        "outputId": "03f03dd6-0d60-47dd-d92d-e2fe5d6a2e61"
      },
      "execution_count": 5,
      "outputs": [
        {
          "output_type": "stream",
          "name": "stdout",
          "text": [
            "[[0.35858752 0.31479423]]\n"
          ]
        }
      ]
    },
    {
      "cell_type": "code",
      "source": [
        "w2 = np.array([[0.7],[0.8]])\n",
        "y = np.dot(h1, w2)\n",
        "print(y)"
      ],
      "metadata": {
        "colab": {
          "base_uri": "https://localhost:8080/"
        },
        "id": "MjDD6haqL5ZX",
        "outputId": "14b277a9-e1fa-4938-b58d-8eb6b274c37c"
      },
      "execution_count": 6,
      "outputs": [
        {
          "output_type": "stream",
          "name": "stdout",
          "text": [
            "[[0.50284665]]\n"
          ]
        }
      ]
    },
    {
      "cell_type": "code",
      "source": [
        "h1 = Tanh(o1)\n",
        "print(h1)"
      ],
      "metadata": {
        "colab": {
          "base_uri": "https://localhost:8080/"
        },
        "id": "DkG2bScoOZht",
        "outputId": "aac5f87d-f11a-4be3-b24f-40239908ee7b"
      },
      "execution_count": 7,
      "outputs": [
        {
          "output_type": "stream",
          "name": "stdout",
          "text": [
            "[[-0.52375481 -0.65144215]]\n"
          ]
        }
      ]
    },
    {
      "cell_type": "code",
      "source": [
        "y = np.dot(h1, w2)\n",
        "print(y)"
      ],
      "metadata": {
        "colab": {
          "base_uri": "https://localhost:8080/"
        },
        "id": "2-PwZeUUOaWv",
        "outputId": "5812cc58-1520-4f76-c366-ed693a8a7800"
      },
      "execution_count": 8,
      "outputs": [
        {
          "output_type": "stream",
          "name": "stdout",
          "text": [
            "[[-0.88778208]]\n"
          ]
        }
      ]
    },
    {
      "cell_type": "code",
      "source": [
        "h1 = Relu(o1)\n",
        "print(h1)"
      ],
      "metadata": {
        "colab": {
          "base_uri": "https://localhost:8080/"
        },
        "id": "DnIgUwrpOjN3",
        "outputId": "b5fa348b-b7a2-49f0-f19c-3139eeba46ac"
      },
      "execution_count": 9,
      "outputs": [
        {
          "output_type": "stream",
          "name": "stdout",
          "text": [
            "[[0.5815 0.7778]]\n"
          ]
        }
      ]
    },
    {
      "cell_type": "code",
      "source": [
        "y = np.dot(h1, w2)\n",
        "print(y)"
      ],
      "metadata": {
        "colab": {
          "base_uri": "https://localhost:8080/"
        },
        "id": "6jyp5UWZOq3V",
        "outputId": "b8dd669d-36e4-486c-a5b2-4dea3e87e898"
      },
      "execution_count": 10,
      "outputs": [
        {
          "output_type": "stream",
          "name": "stdout",
          "text": [
            "[[1.02929]]\n"
          ]
        }
      ]
    },
    {
      "cell_type": "markdown",
      "source": [
        "##Q3"
      ],
      "metadata": {
        "id": "JGP-YgX1QWS6"
      }
    },
    {
      "cell_type": "code",
      "source": [
        "x = np.array([[-3.2, 4.1, 0.163],[-1.7, 3.9, 1.35],[-4.16, 4.33, 0.78],[-2.73, 3.14, 1.07]])\n",
        "w1 = np.array([[0.1, 0.3],[0.2, 0.4], [0.5, 0.6]])\n",
        "N_iteration = 1\n",
        "alpha = 0.05\n",
        "o1 = np.dot(x, w1)\n",
        "h1 = Sigmoid(o1)\n",
        "w2 = np.array([[0.7],[0.8]])\n",
        "y_hat = np.dot(h1, w2)\n",
        "print(y_hat)"
      ],
      "metadata": {
        "colab": {
          "base_uri": "https://localhost:8080/"
        },
        "id": "URx-YbOpQZae",
        "outputId": "100ec8d8-fdee-415c-e0c6-de7803c71a46"
      },
      "execution_count": 11,
      "outputs": [
        {
          "output_type": "stream",
          "name": "stdout",
          "text": [
            "[[0.50284665]\n",
            " [0.25945266]\n",
            " [0.43386058]\n",
            " [0.40673312]]\n"
          ]
        }
      ]
    },
    {
      "cell_type": "code",
      "source": [
        "y = np.array([[2],[6.2],[3.5],[4.2]])\n",
        "e = y_hat-y\n",
        "print(e)"
      ],
      "metadata": {
        "colab": {
          "base_uri": "https://localhost:8080/"
        },
        "id": "_f4o5KpLUPVf",
        "outputId": "5a86e94e-edc0-4896-cb33-51ac51db510d"
      },
      "execution_count": 12,
      "outputs": [
        {
          "output_type": "stream",
          "name": "stdout",
          "text": [
            "[[-1.49715335]\n",
            " [-5.94054734]\n",
            " [-3.06613942]\n",
            " [-3.79326688]]\n"
          ]
        }
      ]
    },
    {
      "cell_type": "code",
      "source": [
        "def Diff(w1, w2, o1):\n",
        "  c = np.exp(o1)\n",
        "  d = c/pow((c+1),2)\n",
        "  print(d.shape)\n",
        "  w_2 = np.hstack((w2, w2, w2))\n",
        "  d = np.sum(d, axis = 0)\n",
        "  print(d.shape)\n",
        "  D = np.vstack((d, d, d))\n",
        "  print(D.shape)\n",
        "  ans = D*np.multiply(w1, w_2.T)\n",
        "  return ans"
      ],
      "metadata": {
        "id": "KX8jvIAEW9Qv"
      },
      "execution_count": 13,
      "outputs": []
    },
    {
      "cell_type": "code",
      "source": [
        "E = np.hstack((e,e))\n",
        "w2_new = w2-2*alpha*np.sum((np.multiply(E, h1).T), axis = 1)\n",
        "w1_new = w1-2*alpha*np.sum(e)* Diff(w1, w2, o1)\n",
        "print(w2_new)\n",
        "print('*'*100)\n",
        "print(w1_new)"
      ],
      "metadata": {
        "colab": {
          "base_uri": "https://localhost:8080/"
        },
        "id": "upqoAu8EUwfG",
        "outputId": "675e0fba-455b-4f39-deed-58771fb3eee7"
      },
      "execution_count": 14,
      "outputs": [
        {
          "output_type": "stream",
          "name": "stdout",
          "text": [
            "(4, 2)\n",
            "(2,)\n",
            "(3, 2)\n",
            "[[1.08529839 1.00877061]\n",
            " [1.18529839 1.10877061]]\n",
            "****************************************************************************************************\n",
            "[[0.18173716 0.54791907]\n",
            " [0.36347432 0.73055876]\n",
            " [0.90868579 1.09583814]]\n"
          ]
        }
      ]
    }
  ]
}