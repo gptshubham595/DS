{
  "nbformat": 4,
  "nbformat_minor": 0,
  "metadata": {
    "colab": {
      "name": "DS_Quiz3.ipynb",
      "provenance": [],
      "collapsed_sections": []
    },
    "kernelspec": {
      "name": "python3",
      "display_name": "Python 3"
    },
    "language_info": {
      "name": "python"
    }
  },
  "cells": [
    {
      "cell_type": "markdown",
      "source": [
        "Q1"
      ],
      "metadata": {
        "id": "y0i0rvaOyBIY"
      }
    },
    {
      "cell_type": "code",
      "execution_count": null,
      "metadata": {
        "colab": {
          "base_uri": "https://localhost:8080/"
        },
        "id": "Lm7fihSKNBxI",
        "outputId": "eb0a2b70-bc10-4f1c-b236-9641e1ea420e"
      },
      "outputs": [
        {
          "output_type": "stream",
          "name": "stdout",
          "text": [
            "(1.0, 0.0)\n",
            "(0.981275614524221, 5.257949853805629e-07)\n"
          ]
        }
      ],
      "source": [
        "from scipy import stats\n",
        "x = [1, 3, 10, 2, 9, 6, 10, 1, 5, 2]\n",
        "y1 = [3, 9, 30, 6, 27, 18, 30, 3, 15, 6]\n",
        "y2 = [4, 12, 103, 7, 84, 39, 103, 4, 28, 7]\n",
        "\n",
        "print(stats.pearsonr(x, y1))\n",
        "print(stats.pearsonr(x, y2))"
      ]
    },
    {
      "cell_type": "markdown",
      "source": [
        "Q2"
      ],
      "metadata": {
        "id": "fF2jO1qQyGlw"
      }
    },
    {
      "cell_type": "code",
      "source": [
        "x = [2, 3, -1, 2, 2, -1, -2, 1, 4, 0]\n",
        "y = [4, 9, 1, 4, 4, 1, 4, 1, 16, 0]\n",
        "print(stats.spearmanr(x, y))"
      ],
      "metadata": {
        "colab": {
          "base_uri": "https://localhost:8080/"
        },
        "id": "ccJwmI8INaxh",
        "outputId": "4f19ea99-e583-44c2-e303-4811a6b5a947"
      },
      "execution_count": null,
      "outputs": [
        {
          "output_type": "stream",
          "name": "stdout",
          "text": [
            "SpearmanrResult(correlation=0.7141254550587829, pvalue=0.02034131486010331)\n"
          ]
        }
      ]
    },
    {
      "cell_type": "markdown",
      "source": [
        "Q3"
      ],
      "metadata": {
        "id": "9Ud5th-YyLG4"
      }
    },
    {
      "cell_type": "code",
      "source": [
        "x = [6, 4, 1, 2, 5, 3]\n",
        "y = [3, 5, 1, 6, 4, 2]\n",
        "print(stats.kendalltau(x, y))"
      ],
      "metadata": {
        "colab": {
          "base_uri": "https://localhost:8080/"
        },
        "id": "glyMgqKdNlpP",
        "outputId": "51329595-90b5-484c-f1a4-f09d780b2a77"
      },
      "execution_count": null,
      "outputs": [
        {
          "output_type": "stream",
          "name": "stdout",
          "text": [
            "KendalltauResult(correlation=0.06666666666666665, pvalue=1.0)\n"
          ]
        }
      ]
    },
    {
      "cell_type": "markdown",
      "source": [
        "Q4"
      ],
      "metadata": {
        "id": "4eEECT84yOa5"
      }
    },
    {
      "cell_type": "code",
      "source": [
        "from sklearn.linear_model import LinearRegression\n",
        "import numpy as np\n",
        "x = np.array([1, 2, 3, 4, 5, 6, 7, 8, 9, 10]).reshape(-1,1)\n",
        "y = np.array([4.04, 6.56, 10.67, 13.73, 16.14, 19.14, 21.94, 25.67, 27.98, 30.64])\n",
        "\n",
        "reg = LinearRegression().fit(x, y)\n",
        "\n",
        "print(reg.coef_)\n",
        "print(reg.intercept_)"
      ],
      "metadata": {
        "colab": {
          "base_uri": "https://localhost:8080/"
        },
        "id": "rlcIu_YnNv18",
        "outputId": "d648697e-7499-49b9-d7b3-94100ac4b6aa"
      },
      "execution_count": null,
      "outputs": [
        {
          "output_type": "stream",
          "name": "stdout",
          "text": [
            "[2.98163636]\n",
            "1.251999999999999\n"
          ]
        }
      ]
    },
    {
      "cell_type": "code",
      "source": [
        ""
      ],
      "metadata": {
        "id": "_gWb2uQNXHZ0"
      },
      "execution_count": null,
      "outputs": []
    },
    {
      "cell_type": "markdown",
      "source": [
        "Q5"
      ],
      "metadata": {
        "id": "I9tDuttVyRig"
      }
    },
    {
      "cell_type": "code",
      "source": [
        "from sklearn.metrics import r2_score\n",
        "test_x =  np.array([25, 26, 27, 28, 29, 30]).reshape(-1,1)\n",
        "test_y = np.array([101.75, 105.75, 109.75, 113.75, 117.75, 121.75])\n",
        "\n",
        "predict_y = reg.predict(test_x)\n",
        "print(r2_score(test_y,predict_y))"
      ],
      "metadata": {
        "colab": {
          "base_uri": "https://localhost:8080/"
        },
        "id": "Oc79hamyOE1I",
        "outputId": "83a973d7-b638-45a7-e40d-3a210205f51d"
      },
      "execution_count": null,
      "outputs": [
        {
          "output_type": "stream",
          "name": "stdout",
          "text": [
            "-16.4738381524203\n"
          ]
        }
      ]
    },
    {
      "cell_type": "markdown",
      "source": [
        "Q6"
      ],
      "metadata": {
        "id": "tKjhPIgpyTmw"
      }
    },
    {
      "cell_type": "code",
      "source": [
        "y2=1.25*x+3\n",
        "n = 10\n",
        "ans = np.sum(np.square(y2-y))/(n-2)\n",
        "print(ans)"
      ],
      "metadata": {
        "id": "_rSbpK99OrPn",
        "colab": {
          "base_uri": "https://localhost:8080/"
        },
        "outputId": "68df9f75-1aef-498e-dc7f-c8ac5d85d7d7"
      },
      "execution_count": null,
      "outputs": [
        {
          "output_type": "stream",
          "name": "stdout",
          "text": [
            "1835.6858750000006\n"
          ]
        }
      ]
    },
    {
      "cell_type": "markdown",
      "source": [
        "Q7 (i)"
      ],
      "metadata": {
        "id": "wEVlcU3FyW5w"
      }
    },
    {
      "cell_type": "code",
      "source": [
        "d=np.array([8.2,10.7,9,8.2,6.4,9.7,6.6,13.4,14.5,5.8]).reshape(-1,1)\n",
        "n=np.array([7,5,5,7,2,2,1,7,6,7]).reshape(-1,1)\n",
        "t=np.array([32.35,38.08,33.03,32.11,21.74,32.77,22.69,47.73,50.53,24.85])\n",
        "\n",
        "\n",
        "x_final=np.concatenate((d,n), axis=1)\n",
        "reg = LinearRegression().fit(x_final, t)\n",
        "print(reg.coef_)\n",
        "print(reg.intercept_)"
      ],
      "metadata": {
        "colab": {
          "base_uri": "https://localhost:8080/"
        },
        "id": "P9SzS1hKPEFt",
        "outputId": "39f097bf-3159-490a-ad22-6f1a54fe1e76"
      },
      "execution_count": null,
      "outputs": [
        {
          "output_type": "stream",
          "name": "stdout",
          "text": [
            "[3.04651246 0.82939337]\n",
            "1.343732250401871\n"
          ]
        }
      ]
    },
    {
      "cell_type": "markdown",
      "source": [
        "Q7 (ii)"
      ],
      "metadata": {
        "id": "7FVQZ7e4yWHp"
      }
    },
    {
      "cell_type": "code",
      "source": [
        "y_pred = reg.predict(x_final)\n",
        "Adj_r2 = 1 - (1-r2_score(t, y_pred)) * (len(t)-1)/(len(t)-x_final.shape[1]-1)\n",
        "\n",
        "print(r2_score(t, y_pred))\n",
        "print(Adj_r2)"
      ],
      "metadata": {
        "id": "COhzqrDIQP51",
        "colab": {
          "base_uri": "https://localhost:8080/"
        },
        "outputId": "e9d46395-b298-477a-e06e-62e7516f7807"
      },
      "execution_count": null,
      "outputs": [
        {
          "output_type": "stream",
          "name": "stdout",
          "text": [
            "0.9989179588965151\n",
            "0.9986088042955195\n"
          ]
        }
      ]
    },
    {
      "cell_type": "markdown",
      "source": [
        "Q7 (iii)"
      ],
      "metadata": {
        "id": "9fc-gTIYyvN1"
      }
    },
    {
      "cell_type": "code",
      "source": [
        "import matplotlib.pyplot as plt\n",
        "data = y_pred-t\n",
        "mu, std = stats.norm.fit(data)\n",
        "\n",
        "plt.hist(data, bins=25, density=True, alpha=0.6, color='g')\n",
        "xmin, xmax = plt.xlim()\n",
        "x = np.linspace(xmin, xmax, 100)\n",
        "p = stats.norm.pdf(x, mu, std)\n",
        "plt.plot(x, p, 'k', linewidth=2)"
      ],
      "metadata": {
        "colab": {
          "base_uri": "https://localhost:8080/",
          "height": 282
        },
        "id": "jei7rN-2Xu_V",
        "outputId": "cb49ba00-0c24-4fa9-95d1-d56207e0f2f5"
      },
      "execution_count": null,
      "outputs": [
        {
          "output_type": "execute_result",
          "data": {
            "text/plain": [
              "[<matplotlib.lines.Line2D at 0x7fef16abe750>]"
            ]
          },
          "metadata": {},
          "execution_count": 9
        },
        {
          "output_type": "display_data",
          "data": {
            "text/plain": [
              "<Figure size 432x288 with 1 Axes>"
            ],
            "image/png": "[encoded data removed]"
          },
          "metadata": {
            "needs_background": "light"
          }
        }
      ]
    },
    {
      "cell_type": "markdown",
      "source": [
        "Q8 (i)"
      ],
      "metadata": {
        "id": "y80o3YdIyy02"
      }
    },
    {
      "cell_type": "code",
      "source": [
        "x1 = np.array([8, 11, 9, 8, 6, 10, 7, 13, 14, 6]).reshape(-1,1)\n",
        "x2 = np.array([6, 4, 5, 7, 1, 1, 0, 7, 6, 7]).reshape(-1,1)\n",
        "x3 = np.array([49, 40, 23, 39, 6, 32, 7, 47, 26, 21]).reshape(-1,1)\n",
        "y = np.array([93.26, 89.76, 60.78, 79.34, 28.23, 75.83, 32.74, 105.59, 79.68, 48.86])\n",
        "\n",
        "x = np.concatenate((x1, x2, x3), axis=1)\n",
        "\n",
        "reg = LinearRegression()\n",
        "reg.fit(x, y)\n",
        "pred = reg.predict(x)\n",
        "\n",
        "import statsmodels.regression.linear_model as sm\n",
        "# add a column of ones as integer data type\n",
        "x = np.append(arr = np.ones((10, 1)).astype(int), \n",
        "              values = x, axis = 1)\n",
        "# choose a Significance level usually 0.05, if p>0.05\n",
        "#  for the highest values parameter, remove that value\n",
        "x_opt = x[:, [0, 1, 2, 3]]\n",
        "ols = sm.OLS(endog = y, exog = x_opt).fit()\n",
        "ols.summary()"
      ],
      "metadata": {
        "id": "FORUNuL6e5Le",
        "colab": {
          "base_uri": "https://localhost:8080/",
          "height": 564
        },
        "outputId": "1d67eaec-4847-456e-b5e4-684574083d2c"
      },
      "execution_count": null,
      "outputs": [
        {
          "output_type": "stream",
          "name": "stderr",
          "text": [
            "/usr/local/lib/python3.7/dist-packages/statsmodels/tools/_testing.py:19: FutureWarning: pandas.util.testing is deprecated. Use the functions in the public API at pandas.testing instead.\n",
            "  import pandas.util.testing as tm\n",
            "/usr/local/lib/python3.7/dist-packages/scipy/stats/stats.py:1535: UserWarning: kurtosistest only valid for n>=20 ... continuing anyway, n=10\n",
            "  \"anyway, n=%i\" % int(n))\n"
          ]
        },
        {
          "output_type": "execute_result",
          "data": {
            "text/plain": [
              "<class 'statsmodels.iolib.summary.Summary'>\n",
              "\"\"\"\n",
              "                            OLS Regression Results                            \n",
              "==============================================================================\n",
              "Dep. Variable:                      y   R-squared:                       1.000\n",
              "Model:                            OLS   Adj. R-squared:                  1.000\n",
              "Method:                 Least Squares   F-statistic:                 1.143e+05\n",
              "Date:                Tue, 12 Apr 2022   Prob (F-statistic):           1.17e-14\n",
              "Time:                        07:58:12   Log-Likelihood:                 8.5333\n",
              "No. Observations:                  10   AIC:                            -9.067\n",
              "Df Residuals:                       6   BIC:                            -7.856\n",
              "Df Model:                           3                                         \n",
              "Covariance Type:            nonrobust                                         \n",
              "==============================================================================\n",
              "                 coef    std err          t      P>|t|      [0.025      0.975]\n",
              "------------------------------------------------------------------------------\n",
              "const          2.0399      0.155     13.156      0.000       1.660       2.419\n",
              "x1             3.0063      0.018    163.520      0.000       2.961       3.051\n",
              "x2             0.0116      0.021      0.562      0.594      -0.039       0.062\n",
              "x3             1.3675      0.004    332.800      0.000       1.357       1.378\n",
              "==============================================================================\n",
              "Omnibus:                        0.926   Durbin-Watson:                   2.704\n",
              "Prob(Omnibus):                  0.629   Jarque-Bera (JB):                0.636\n",
              "Skew:                           0.165   Prob(JB):                        0.728\n",
              "Kurtosis:                       1.809   Cond. No.                         126.\n",
              "==============================================================================\n",
              "\n",
              "Warnings:\n",
              "[1] Standard Errors assume that the covariance matrix of the errors is correctly specified.\n",
              "\"\"\""
            ],
            "text/html": [
              "<table class=\"simpletable\">\n",
              "<caption>OLS Regression Results</caption>\n",
              "<tr>\n",
              "  <th>Dep. Variable:</th>            <td>y</td>        <th>  R-squared:         </th> <td>   1.000</td> \n",
              "</tr>\n",
              "<tr>\n",
              "  <th>Model:</th>                   <td>OLS</td>       <th>  Adj. R-squared:    </th> <td>   1.000</td> \n",
              "</tr>\n",
              "<tr>\n",
              "  <th>Method:</th>             <td>Least Squares</td>  <th>  F-statistic:       </th> <td>1.143e+05</td>\n",
              "</tr>\n",
              "<tr>\n",
              "  <th>Date:</th>             <td>Tue, 12 Apr 2022</td> <th>  Prob (F-statistic):</th> <td>1.17e-14</td> \n",
              "</tr>\n",
              "<tr>\n",
              "  <th>Time:</th>                 <td>07:58:12</td>     <th>  Log-Likelihood:    </th> <td>  8.5333</td> \n",
              "</tr>\n",
              "<tr>\n",
              "  <th>No. Observations:</th>      <td>    10</td>      <th>  AIC:               </th> <td>  -9.067</td> \n",
              "</tr>\n",
              "<tr>\n",
              "  <th>Df Residuals:</th>          <td>     6</td>      <th>  BIC:               </th> <td>  -7.856</td> \n",
              "</tr>\n",
              "<tr>\n",
              "  <th>Df Model:</th>              <td>     3</td>      <th>                     </th>     <td> </td>    \n",
              "</tr>\n",
              "<tr>\n",
              "  <th>Covariance Type:</th>      <td>nonrobust</td>    <th>                     </th>     <td> </td>    \n",
              "</tr>\n",
              "</table>\n",
              "<table class=\"simpletable\">\n",
              "<tr>\n",
              "    <td></td>       <th>coef</th>     <th>std err</th>      <th>t</th>      <th>P>|t|</th>  <th>[0.025</th>    <th>0.975]</th>  \n",
              "</tr>\n",
              "<tr>\n",
              "  <th>const</th> <td>    2.0399</td> <td>    0.155</td> <td>   13.156</td> <td> 0.000</td> <td>    1.660</td> <td>    2.419</td>\n",
              "</tr>\n",
              "<tr>\n",
              "  <th>x1</th>    <td>    3.0063</td> <td>    0.018</td> <td>  163.520</td> <td> 0.000</td> <td>    2.961</td> <td>    3.051</td>\n",
              "</tr>\n",
              "<tr>\n",
              "  <th>x2</th>    <td>    0.0116</td> <td>    0.021</td> <td>    0.562</td> <td> 0.594</td> <td>   -0.039</td> <td>    0.062</td>\n",
              "</tr>\n",
              "<tr>\n",
              "  <th>x3</th>    <td>    1.3675</td> <td>    0.004</td> <td>  332.800</td> <td> 0.000</td> <td>    1.357</td> <td>    1.378</td>\n",
              "</tr>\n",
              "</table>\n",
              "<table class=\"simpletable\">\n",
              "<tr>\n",
              "  <th>Omnibus:</th>       <td> 0.926</td> <th>  Durbin-Watson:     </th> <td>   2.704</td>\n",
              "</tr>\n",
              "<tr>\n",
              "  <th>Prob(Omnibus):</th> <td> 0.629</td> <th>  Jarque-Bera (JB):  </th> <td>   0.636</td>\n",
              "</tr>\n",
              "<tr>\n",
              "  <th>Skew:</th>          <td> 0.165</td> <th>  Prob(JB):          </th> <td>   0.728</td>\n",
              "</tr>\n",
              "<tr>\n",
              "  <th>Kurtosis:</th>      <td> 1.809</td> <th>  Cond. No.          </th> <td>    126.</td>\n",
              "</tr>\n",
              "</table><br/><br/>Warnings:<br/>[1] Standard Errors assume that the covariance matrix of the errors is correctly specified."
            ]
          },
          "metadata": {},
          "execution_count": 10
        }
      ]
    },
    {
      "cell_type": "code",
      "source": [
        "x_opt = x[:, [0, 1, 3]]\n",
        "ols = sm.OLS(endog = y, exog = x_opt).fit()\n",
        "ols.summary()"
      ],
      "metadata": {
        "colab": {
          "base_uri": "https://localhost:8080/",
          "height": 508
        },
        "id": "affO2Uikpjrl",
        "outputId": "f4b0e606-427a-4d9d-d6b6-0deff83f0ffe"
      },
      "execution_count": null,
      "outputs": [
        {
          "output_type": "stream",
          "name": "stderr",
          "text": [
            "/usr/local/lib/python3.7/dist-packages/scipy/stats/stats.py:1535: UserWarning: kurtosistest only valid for n>=20 ... continuing anyway, n=10\n",
            "  \"anyway, n=%i\" % int(n))\n"
          ]
        },
        {
          "output_type": "execute_result",
          "data": {
            "text/plain": [
              "<class 'statsmodels.iolib.summary.Summary'>\n",
              "\"\"\"\n",
              "                            OLS Regression Results                            \n",
              "==============================================================================\n",
              "Dep. Variable:                      y   R-squared:                       1.000\n",
              "Model:                            OLS   Adj. R-squared:                  1.000\n",
              "Method:                 Least Squares   F-statistic:                 1.901e+05\n",
              "Date:                Tue, 12 Apr 2022   Prob (F-statistic):           2.68e-17\n",
              "Time:                        07:58:12   Log-Likelihood:                 8.2765\n",
              "No. Observations:                  10   AIC:                            -10.55\n",
              "Df Residuals:                       7   BIC:                            -9.645\n",
              "Df Model:                           2                                         \n",
              "Covariance Type:            nonrobust                                         \n",
              "==============================================================================\n",
              "                 coef    std err          t      P>|t|      [0.025      0.975]\n",
              "------------------------------------------------------------------------------\n",
              "const          2.0531      0.146     14.103      0.000       1.709       2.397\n",
              "x1             3.0062      0.017    172.144      0.000       2.965       3.048\n",
              "x2             1.3688      0.003    428.085      0.000       1.361       1.376\n",
              "==============================================================================\n",
              "Omnibus:                        1.084   Durbin-Watson:                   2.771\n",
              "Prob(Omnibus):                  0.581   Jarque-Bera (JB):                0.713\n",
              "Skew:                           0.265   Prob(JB):                        0.700\n",
              "Kurtosis:                       1.804   Cond. No.                         123.\n",
              "==============================================================================\n",
              "\n",
              "Warnings:\n",
              "[1] Standard Errors assume that the covariance matrix of the errors is correctly specified.\n",
              "\"\"\""
            ],
            "text/html": [
              "<table class=\"simpletable\">\n",
              "<caption>OLS Regression Results</caption>\n",
              "<tr>\n",
              "  <th>Dep. Variable:</th>            <td>y</td>        <th>  R-squared:         </th> <td>   1.000</td> \n",
              "</tr>\n",
              "<tr>\n",
              "  <th>Model:</th>                   <td>OLS</td>       <th>  Adj. R-squared:    </th> <td>   1.000</td> \n",
              "</tr>\n",
              "<tr>\n",
              "  <th>Method:</th>             <td>Least Squares</td>  <th>  F-statistic:       </th> <td>1.901e+05</td>\n",
              "</tr>\n",
              "<tr>\n",
              "  <th>Date:</th>             <td>Tue, 12 Apr 2022</td> <th>  Prob (F-statistic):</th> <td>2.68e-17</td> \n",
              "</tr>\n",
              "<tr>\n",
              "  <th>Time:</th>                 <td>07:58:12</td>     <th>  Log-Likelihood:    </th> <td>  8.2765</td> \n",
              "</tr>\n",
              "<tr>\n",
              "  <th>No. Observations:</th>      <td>    10</td>      <th>  AIC:               </th> <td>  -10.55</td> \n",
              "</tr>\n",
              "<tr>\n",
              "  <th>Df Residuals:</th>          <td>     7</td>      <th>  BIC:               </th> <td>  -9.645</td> \n",
              "</tr>\n",
              "<tr>\n",
              "  <th>Df Model:</th>              <td>     2</td>      <th>                     </th>     <td> </td>    \n",
              "</tr>\n",
              "<tr>\n",
              "  <th>Covariance Type:</th>      <td>nonrobust</td>    <th>                     </th>     <td> </td>    \n",
              "</tr>\n",
              "</table>\n",
              "<table class=\"simpletable\">\n",
              "<tr>\n",
              "    <td></td>       <th>coef</th>     <th>std err</th>      <th>t</th>      <th>P>|t|</th>  <th>[0.025</th>    <th>0.975]</th>  \n",
              "</tr>\n",
              "<tr>\n",
              "  <th>const</th> <td>    2.0531</td> <td>    0.146</td> <td>   14.103</td> <td> 0.000</td> <td>    1.709</td> <td>    2.397</td>\n",
              "</tr>\n",
              "<tr>\n",
              "  <th>x1</th>    <td>    3.0062</td> <td>    0.017</td> <td>  172.144</td> <td> 0.000</td> <td>    2.965</td> <td>    3.048</td>\n",
              "</tr>\n",
              "<tr>\n",
              "  <th>x2</th>    <td>    1.3688</td> <td>    0.003</td> <td>  428.085</td> <td> 0.000</td> <td>    1.361</td> <td>    1.376</td>\n",
              "</tr>\n",
              "</table>\n",
              "<table class=\"simpletable\">\n",
              "<tr>\n",
              "  <th>Omnibus:</th>       <td> 1.084</td> <th>  Durbin-Watson:     </th> <td>   2.771</td>\n",
              "</tr>\n",
              "<tr>\n",
              "  <th>Prob(Omnibus):</th> <td> 0.581</td> <th>  Jarque-Bera (JB):  </th> <td>   0.713</td>\n",
              "</tr>\n",
              "<tr>\n",
              "  <th>Skew:</th>          <td> 0.265</td> <th>  Prob(JB):          </th> <td>   0.700</td>\n",
              "</tr>\n",
              "<tr>\n",
              "  <th>Kurtosis:</th>      <td> 1.804</td> <th>  Cond. No.          </th> <td>    123.</td>\n",
              "</tr>\n",
              "</table><br/><br/>Warnings:<br/>[1] Standard Errors assume that the covariance matrix of the errors is correctly specified."
            ]
          },
          "metadata": {},
          "execution_count": 11
        }
      ]
    },
    {
      "cell_type": "code",
      "source": [
        "x = np.concatenate((x1, x3), axis = 1)\n",
        "reg = LinearRegression()\n",
        "reg.fit(x, y)\n",
        "print(reg.coef_)\n",
        "print(reg.intercept_)"
      ],
      "metadata": {
        "id": "mHR4tc5ii43t",
        "colab": {
          "base_uri": "https://localhost:8080/"
        },
        "outputId": "75d81c83-e43e-40da-ebe2-d6727de126e3"
      },
      "execution_count": null,
      "outputs": [
        {
          "output_type": "stream",
          "name": "stdout",
          "text": [
            "[3.00624257 1.368844  ]\n",
            "2.0530921883705417\n"
          ]
        }
      ]
    },
    {
      "cell_type": "markdown",
      "source": [
        "Q8 (ii)"
      ],
      "metadata": {
        "id": "9N5z9CjZy3sf"
      }
    },
    {
      "cell_type": "code",
      "source": [
        "import pandas as pd\n",
        "x1 = np.array([8, 11, 9, 8, 6, 10, 7, 13, 14, 6])\n",
        "x2 = np.array([6, 4, 5, 7, 1, 1, 0, 7, 6, 7])\n",
        "x3 = np.array([49, 40, 23, 39, 6, 32, 7, 47, 26, 21])\n",
        "y = np.array([93.26, 89.76, 60.78, 79.34, 28.23, 75.83, 32.74, 105.59, 79.68, 48.86])\n",
        "xy = np.vstack((x1, x2, x3, y))\n",
        "xy_ = np.transpose(xy)\n",
        "df = pd.DataFrame(xy_, columns = ['x1','x2','x3', 'y'])\n",
        "df.corr()"
      ],
      "metadata": {
        "colab": {
          "base_uri": "https://localhost:8080/",
          "height": 175
        },
        "id": "raMrHPafsK5Y",
        "outputId": "55071085-31f7-46bf-f608-1d6380d93085"
      },
      "execution_count": null,
      "outputs": [
        {
          "output_type": "execute_result",
          "data": {
            "text/plain": [
              "          x1        x2        x3         y\n",
              "x1  1.000000  0.307258  0.497214  0.719675\n",
              "x2  0.307258  1.000000  0.626283  0.600789\n",
              "x3  0.497214  0.626283  1.000000  0.960225\n",
              "y   0.719675  0.600789  0.960225  1.000000"
            ],
            "text/html": [
              "\n",
              "  <div id=\"df-985be29c-a804-4522-9c43-a233a5140bd6\">\n",
              "    <div class=\"colab-df-container\">\n",
              "      <div>\n",
              "<style scoped>\n",
              "    .dataframe tbody tr th:only-of-type {\n",
              "        vertical-align: middle;\n",
              "    }\n",
              "\n",
              "    .dataframe tbody tr th {\n",
              "        vertical-align: top;\n",
              "    }\n",
              "\n",
              "    .dataframe thead th {\n",
              "        text-align: right;\n",
              "    }\n",
              "</style>\n",
              "<table border=\"1\" class=\"dataframe\">\n",
              "  <thead>\n",
              "    <tr style=\"text-align: right;\">\n",
              "      <th></th>\n",
              "      <th>x1</th>\n",
              "      <th>x2</th>\n",
              "      <th>x3</th>\n",
              "      <th>y</th>\n",
              "    </tr>\n",
              "  </thead>\n",
              "  <tbody>\n",
              "    <tr>\n",
              "      <th>x1</th>\n",
              "      <td>1.000000</td>\n",
              "      <td>0.307258</td>\n",
              "      <td>0.497214</td>\n",
              "      <td>0.719675</td>\n",
              "    </tr>\n",
              "    <tr>\n",
              "      <th>x2</th>\n",
              "      <td>0.307258</td>\n",
              "      <td>1.000000</td>\n",
              "      <td>0.626283</td>\n",
              "      <td>0.600789</td>\n",
              "    </tr>\n",
              "    <tr>\n",
              "      <th>x3</th>\n",
              "      <td>0.497214</td>\n",
              "      <td>0.626283</td>\n",
              "      <td>1.000000</td>\n",
              "      <td>0.960225</td>\n",
              "    </tr>\n",
              "    <tr>\n",
              "      <th>y</th>\n",
              "      <td>0.719675</td>\n",
              "      <td>0.600789</td>\n",
              "      <td>0.960225</td>\n",
              "      <td>1.000000</td>\n",
              "    </tr>\n",
              "  </tbody>\n",
              "</table>\n",
              "</div>\n",
              "      <button class=\"colab-df-convert\" onclick=\"convertToInteractive('df-985be29c-a804-4522-9c43-a233a5140bd6')\"\n",
              "              title=\"Convert this dataframe to an interactive table.\"\n",
              "              style=\"display:none;\">\n",
              "        \n",
              "  <svg xmlns=\"http://www.w3.org/2000/svg\" height=\"24px\"viewBox=\"0 0 24 24\"\n",
              "       width=\"24px\">\n",
              "    <path d=\"M0 0h24v24H0V0z\" fill=\"none\"/>\n",
              "    <path d=\"M18.56 5.44l.94 2.06.94-2.06 2.06-.94-2.06-.94-.94-2.06-.94 2.06-2.06.94zm-11 1L8.5 8.5l.94-2.06 2.06-.94-2.06-.94L8.5 2.5l-.94 2.06-2.06.94zm10 10l.94 2.06.94-2.06 2.06-.94-2.06-.94-.94-2.06-.94 2.06-2.06.94z\"/><path d=\"M17.41 7.96l-1.37-1.37c-.4-.4-.92-.59-1.43-.59-.52 0-1.04.2-1.43.59L10.3 9.45l-7.72 7.72c-.78.78-.78 2.05 0 2.83L4 21.41c.39.39.9.59 1.41.59.51 0 1.02-.2 1.41-.59l7.78-7.78 2.81-2.81c.8-.78.8-2.07 0-2.86zM5.41 20L4 18.59l7.72-7.72 1.47 1.35L5.41 20z\"/>\n",
              "  </svg>\n",
              "      </button>\n",
              "      \n",
              "  <style>\n",
              "    .colab-df-container {\n",
              "      display:flex;\n",
              "      flex-wrap:wrap;\n",
              "      gap: 12px;\n",
              "    }\n",
              "\n",
              "    .colab-df-convert {\n",
              "      background-color: #E8F0FE;\n",
              "      border: none;\n",
              "      border-radius: 50%;\n",
              "      cursor: pointer;\n",
              "      display: none;\n",
              "      fill: #1967D2;\n",
              "      height: 32px;\n",
              "      padding: 0 0 0 0;\n",
              "      width: 32px;\n",
              "    }\n",
              "\n",
              "    .colab-df-convert:hover {\n",
              "      background-color: #E2EBFA;\n",
              "      box-shadow: 0px 1px 2px rgba(60, 64, 67, 0.3), 0px 1px 3px 1px rgba(60, 64, 67, 0.15);\n",
              "      fill: #174EA6;\n",
              "    }\n",
              "\n",
              "    [theme=dark] .colab-df-convert {\n",
              "      background-color: #3B4455;\n",
              "      fill: #D2E3FC;\n",
              "    }\n",
              "\n",
              "    [theme=dark] .colab-df-convert:hover {\n",
              "      background-color: #434B5C;\n",
              "      box-shadow: 0px 1px 3px 1px rgba(0, 0, 0, 0.15);\n",
              "      filter: drop-shadow(0px 1px 2px rgba(0, 0, 0, 0.3));\n",
              "      fill: #FFFFFF;\n",
              "    }\n",
              "  </style>\n",
              "\n",
              "      <script>\n",
              "        const buttonEl =\n",
              "          document.querySelector('#df-985be29c-a804-4522-9c43-a233a5140bd6 button.colab-df-convert');\n",
              "        buttonEl.style.display =\n",
              "          google.colab.kernel.accessAllowed ? 'block' : 'none';\n",
              "\n",
              "        async function convertToInteractive(key) {\n",
              "          const element = document.querySelector('#df-985be29c-a804-4522-9c43-a233a5140bd6');\n",
              "          const dataTable =\n",
              "            await google.colab.kernel.invokeFunction('convertToInteractive',\n",
              "                                                     [key], {});\n",
              "          if (!dataTable) return;\n",
              "\n",
              "          const docLinkHtml = 'Like what you see? Visit the ' +\n",
              "            '<a target=\"_blank\" href=https://colab.research.google.com/notebooks/data_table.ipynb>data table notebook</a>'\n",
              "            + ' to learn more about interactive tables.';\n",
              "          element.innerHTML = '';\n",
              "          dataTable['output_type'] = 'display_data';\n",
              "          await google.colab.output.renderOutput(dataTable, element);\n",
              "          const docLink = document.createElement('div');\n",
              "          docLink.innerHTML = docLinkHtml;\n",
              "          element.appendChild(docLink);\n",
              "        }\n",
              "      </script>\n",
              "    </div>\n",
              "  </div>\n",
              "  "
            ]
          },
          "metadata": {},
          "execution_count": 13
        }
      ]
    },
    {
      "cell_type": "code",
      "source": [
        "x = x3.reshape(-1,1)\n",
        "reg = LinearRegression().fit(x, y)\n",
        "y_pred = reg.predict(x)\n",
        "print(r2_score(y,y_pred))\n",
        "\n",
        "print('*'*20)\n",
        "\n",
        "x = np.concatenate((x1.reshape(-1,1), x3.reshape(-1,1)), axis=1)\n",
        "reg = LinearRegression().fit(x, y)\n",
        "y_pred = reg.predict(x)\n",
        "print(r2_score(y,y_pred))\n",
        "\n",
        "print('*'*20)\n",
        "\n",
        "x = np.concatenate((x1.reshape(-1,1), x2.reshape(-1,1), x3.reshape(-1,1)), axis=1)\n",
        "reg = LinearRegression().fit(x, y)\n",
        "y_pred = reg.predict(x)\n",
        "print(r2_score(y,y_pred))"
      ],
      "metadata": {
        "colab": {
          "base_uri": "https://localhost:8080/"
        },
        "id": "aFJ4UTS5uVru",
        "outputId": "8aeb2b2e-002f-43a3-9f22-47f968512894"
      },
      "execution_count": null,
      "outputs": [
        {
          "output_type": "stream",
          "name": "stdout",
          "text": [
            "0.9220319219670723\n",
            "********************\n",
            "0.999981586725961\n",
            "********************\n",
            "0.9999825085660973\n"
          ]
        }
      ]
    },
    {
      "cell_type": "markdown",
      "source": [
        "Q9"
      ],
      "metadata": {
        "id": "jniQzvgazAJC"
      }
    },
    {
      "cell_type": "code",
      "source": [
        "from sklearn import linear_model\n",
        "clf = linear_model.Lasso(alpha=0.05)\n",
        "\n",
        "x=np.concatenate((x1.reshape(-1,1), x2.reshape(-1,1), x3.reshape(-1,1)), axis=1)\n",
        "clf.fit(x,y)\n",
        "\n",
        "y_pred = clf.predict(x)\n",
        "print(r2_score(y, y_pred))\n",
        "\n",
        "print(clf.coef_)\n",
        "print(clf.intercept_)"
      ],
      "metadata": {
        "colab": {
          "base_uri": "https://localhost:8080/"
        },
        "id": "m0xopbD7i5M7",
        "outputId": "765ebb29-1d03-454a-8c6a-6fa1552222f6"
      },
      "execution_count": null,
      "outputs": [
        {
          "output_type": "stream",
          "name": "stdout",
          "text": [
            "0.9999810742555482\n",
            "[2.99757700e+00 1.02664301e-03 1.36927537e+00]\n",
            "2.1157887650662133\n"
          ]
        }
      ]
    },
    {
      "cell_type": "markdown",
      "source": [
        "Q10"
      ],
      "metadata": {
        "id": "jHJP0G4bzCSQ"
      }
    },
    {
      "cell_type": "code",
      "source": [
        "from sklearn.linear_model import Ridge\n",
        "\n",
        "x1 = np.array([15,17,16,15,14,16,14,19,20,14]).reshape(-1,1)\n",
        "x2 = np.array([7,5,5,7,1,2,1,7,6,7]).reshape(-1,1)\n",
        "x3 = np.array([22,22,21,22,15,18,15,26,26,21]).reshape(-1,1)\n",
        "y = [797.2,793.8,758.7,792.5,536.4,651.1,543.2,937.1,943.1,755.2]\n",
        "x=np.concatenate((x1,x2,x3), axis=1)\n",
        "clf = Ridge(alpha=1.0)\n",
        "clf.fit(x,y)\n",
        "\n",
        "y_pred = clf.predict(x)\n",
        "print(r2_score(y, y_pred))\n",
        "\n",
        "print(clf.coef_)\n",
        "print(clf.intercept_)"
      ],
      "metadata": {
        "colab": {
          "base_uri": "https://localhost:8080/"
        },
        "id": "yET94EksjJuz",
        "outputId": "df53b378-959e-41be-b53a-d38cf9357117"
      },
      "execution_count": null,
      "outputs": [
        {
          "output_type": "stream",
          "name": "stdout",
          "text": [
            "0.9996407889089124\n",
            "[12.35311234 11.7794984  24.13261074]\n",
            "-5.3196931402092105\n"
          ]
        }
      ]
    },
    {
      "cell_type": "code",
      "source": [
        "from scipy import stats\n",
        "\n",
        "x = [-6.02, 8.46, 1.4, 8.54, 6.84, 4.26, -1.23, -0.22, -4.13, 2.27]\n",
        "y = [6.58, 5.32, 0.99, 8.06, 7.62, 1.6, 3.4, 4.24, 7.89, 0.28]\n",
        "print(stats.spearmanr(x, y))\n",
        "print(stats.pearsonr(x, y))\n",
        "print(stats.kendalltau(x, y))"
      ],
      "metadata": {
        "colab": {
          "base_uri": "https://localhost:8080/"
        },
        "id": "VYX1NIAJ2wPx",
        "outputId": "097f7f53-b6d6-4687-c635-b5b1bbee8c05"
      },
      "execution_count": null,
      "outputs": [
        {
          "output_type": "stream",
          "name": "stdout",
          "text": [
            "SpearmanrResult(correlation=0.11515151515151514, pvalue=0.7514196523258483)\n",
            "(0.035225378379322034, 0.9230400262185328)\n",
            "KendalltauResult(correlation=0.06666666666666667, pvalue=0.8618005952380953)\n"
          ]
        }
      ]
    },
    {
      "cell_type": "code",
      "source": [
        "import numpy as np\n",
        "from sklearn.linear_model import LinearRegression\n",
        "\n",
        "d=np.array([6.3, 10.61, 13.21, 9.4, 10.56, 12.1, 7.27, 13.54, 7.62, 5.21]).reshape(-1,1)\n",
        "n=np.array([14.81, 11.32, 11.94, 10.15, 9.45, 9.66, 7.64, 6.45, 11.95, 13.01]).reshape(-1,1)\n",
        "t=np.array([49.15, 45.08, 59.86, 50.5, 37.28, 35.66, 26.52, 30.94, 39.37, 45.25])\n",
        "\n",
        "\n",
        "x_final=np.concatenate((d,n), axis=1)\n",
        "reg = LinearRegression().fit(x_final, t)\n",
        "print(reg.coef_)\n",
        "print(reg.intercept_)"
      ],
      "metadata": {
        "colab": {
          "base_uri": "https://localhost:8080/"
        },
        "id": "bmuFobSS5YZX",
        "outputId": "48bad46b-3524-4985-8979-891df08817e4"
      },
      "execution_count": null,
      "outputs": [
        {
          "output_type": "stream",
          "name": "stdout",
          "text": [
            "[1.87372763 4.00152296]\n",
            "-18.5612593608586\n"
          ]
        }
      ]
    },
    {
      "cell_type": "code",
      "source": [
        "from sklearn.metrics import r2_score\n",
        "y_pred = reg.predict(x_final)\n",
        "Adj_r2 = 1 - (1-r2_score(t, y_pred)) * (len(t)-1)/(len(t)-x_final.shape[1]-1)\n",
        "\n",
        "print(r2_score(t, y_pred))\n",
        "print(Adj_r2)"
      ],
      "metadata": {
        "colab": {
          "base_uri": "https://localhost:8080/"
        },
        "id": "sdIcM4zw6uJm",
        "outputId": "140a670c-b77a-478b-8397-38b064d99fd8"
      },
      "execution_count": null,
      "outputs": [
        {
          "output_type": "stream",
          "name": "stdout",
          "text": [
            "0.726797139167411\n",
            "0.6487391789295284\n"
          ]
        }
      ]
    },
    {
      "cell_type": "code",
      "source": [
        "import matplotlib.pyplot as plt\n",
        "data = y_pred-t\n",
        "mu, std = stats.norm.fit(data)\n",
        "\n",
        "print(mu)\n",
        "print(std)\n",
        "\n",
        "plt.hist(data, bins=25, density=True, alpha=0.6, color='g')\n",
        "xmin, xmax = plt.xlim()\n",
        "x = np.linspace(xmin, xmax, 100)\n",
        "p = stats.norm.pdf(x, mu, std)\n",
        "plt.plot(x, p, 'k', linewidth=2)"
      ],
      "metadata": {
        "colab": {
          "base_uri": "https://localhost:8080/",
          "height": 317
        },
        "id": "hWAawVfK2wR3",
        "outputId": "3956b1ec-337a-4ea5-acf4-718e1fd5464a"
      },
      "execution_count": null,
      "outputs": [
        {
          "output_type": "stream",
          "name": "stdout",
          "text": [
            "-4.973799150320701e-15\n",
            "4.941353876437953\n"
          ]
        },
        {
          "output_type": "execute_result",
          "data": {
            "text/plain": [
              "[<matplotlib.lines.Line2D at 0x7f80860f6e50>]"
            ]
          },
          "metadata": {},
          "execution_count": 14
        },
        {
          "output_type": "display_data",
          "data": {
            "text/plain": [
              "<Figure size 432x288 with 1 Axes>"
            ],
            "image/png": "[encoded data removed]"
          },
          "metadata": {
            "needs_background": "light"
          }
        }
      ]
    },
    {
      "cell_type": "code",
      "source": [
        "63.19/64.48"
      ],
      "metadata": {
        "colab": {
          "base_uri": "https://localhost:8080/"
        },
        "id": "As_EGbGx2wUY",
        "outputId": "43784f80-1f99-4f77-f45b-205d31a11912"
      },
      "execution_count": null,
      "outputs": [
        {
          "output_type": "execute_result",
          "data": {
            "text/plain": [
              "0.9799937965260545"
            ]
          },
          "metadata": {},
          "execution_count": 15
        }
      ]
    },
    {
      "cell_type": "code",
      "source": [
        "7.33 - 4.1*0.98"
      ],
      "metadata": {
        "colab": {
          "base_uri": "https://localhost:8080/"
        },
        "id": "MQo91GOS2wW2",
        "outputId": "3764a019-b634-4030-a070-1cc153b916f5"
      },
      "execution_count": null,
      "outputs": [
        {
          "output_type": "execute_result",
          "data": {
            "text/plain": [
              "3.3120000000000003"
            ]
          },
          "metadata": {},
          "execution_count": 16
        }
      ]
    },
    {
      "cell_type": "code",
      "source": [
        "x=np.array([3.09, 2.99, 6.25, 4.8, 1.27, 3.33,1.06, 8.06, 5.9, 5.66]).reshape(-1,1)\n",
        "y=np.array([12.9, 15.28, 20.38, 18.06, 9.52, 14.89, 7.45, 27.73, 20.95, 18.27])\n",
        "\n",
        "reg = LinearRegression().fit(x, y)\n",
        "print(reg.coef_)\n",
        "print(reg.intercept_)"
      ],
      "metadata": {
        "colab": {
          "base_uri": "https://localhost:8080/"
        },
        "id": "VJhJYYUt2wZZ",
        "outputId": "bf5e9ea6-434b-4aec-8ca6-8294d99f3cc8"
      },
      "execution_count": null,
      "outputs": [
        {
          "output_type": "stream",
          "name": "stdout",
          "text": [
            "[2.54743814]\n",
            "5.739314863594958\n"
          ]
        }
      ]
    },
    {
      "cell_type": "code",
      "source": [
        "y_pred = reg.predict(x)\n",
        "Adj_r2 = 1 - (1-r2_score(y, y_pred)) * (len(y)-1)/(len(y)-x.shape[1]-1)\n",
        "\n",
        "print(r2_score(y, y_pred))\n",
        "print(Adj_r2)"
      ],
      "metadata": {
        "colab": {
          "base_uri": "https://localhost:8080/"
        },
        "id": "q2pZ03Ve2wby",
        "outputId": "7145b5c7-37f1-491e-f7ea-0dc5c35e2de9"
      },
      "execution_count": null,
      "outputs": [
        {
          "output_type": "stream",
          "name": "stdout",
          "text": [
            "0.9576626974982985\n",
            "0.9523705346855857\n"
          ]
        }
      ]
    },
    {
      "cell_type": "code",
      "source": [
        "from sklearn.linear_model import LinearRegression\n",
        "from sklearn.preprocessing import PolynomialFeatures\n",
        "from sklearn.pipeline import Pipeline\n",
        "from sklearn.metrics import mean_squared_error\n",
        "\n",
        "x = np.array([23.7, 11.7, 9.3, 15.6, 20.1, 27.6])\n",
        "y = np.array([6087.0, 857.7, 467.1, 1811.4, 3840.9, 9650.4])\n",
        "\n",
        "Input=[('polynomial', PolynomialFeatures(degree=6)),('modal', LinearRegression())]\n",
        "\n",
        "pipe=Pipeline(Input)\n",
        "pipe.fit(x.reshape(-1,1),y.reshape(-1,1))\n",
        "\n",
        "poly_pred = pipe.predict(x.reshape(-1,1))\n",
        "print('RMSE for Polynomial Regression=>', np.sqrt(mean_squared_error(y, poly_pred)))"
      ],
      "metadata": {
        "colab": {
          "base_uri": "https://localhost:8080/"
        },
        "id": "VpCcqHCH2weK",
        "outputId": "f8fa64d6-dd55-4774-f4a6-9c5ce4bd3c86"
      },
      "execution_count": null,
      "outputs": [
        {
          "output_type": "stream",
          "name": "stdout",
          "text": [
            "RMSE for Polynomial Regression=> 1.7756152497080808e-08\n"
          ]
        }
      ]
    },
    {
      "cell_type": "code",
      "source": [
        "mse = mean_squared_error(y, poly_pred)\n",
        "def calculate_aic(n, mse, num_params):\n",
        "\taic = n * log(mse) + 2 * num_params\n",
        "\treturn aic\n",
        "\n",
        "from math import log\n",
        "num_params=4\n",
        "aic = calculate_aic(len(y), mse, num_params)\n",
        "print(aic)"
      ],
      "metadata": {
        "id": "ZvvWeky7JJzq"
      },
      "execution_count": null,
      "outputs": []
    },
    {
      "cell_type": "code",
      "source": [
        "x1 = np.array([11, 7, 8, 11, 14, 6, 8])"
      ],
      "metadata": {
        "id": "E2WqPeE-2wgo"
      },
      "execution_count": null,
      "outputs": []
    },
    {
      "cell_type": "code",
      "source": [
        "d=np.array([11.9,16.9,17.2,16.9,12.5,7.7,6.0,1.1,5.5,9.6]).reshape(-1,1)\n",
        "cs=np.array([4.2,2.7,2.3,4.3,2.0,3.4,2.2,4.8,1.1,4.4]).reshape(-1,1)\n",
        "ca=np.array([2.6,4.1,2.8,3.6,3.7,3.1,2.9,3.9,1.0,2.6]).reshape(-1,1)\n",
        "cf=np.array([1.3,3.8,1.5,1.1,2.0,1.2,1.5,2.2,4.6,2.5]).reshape(-1,1)\n",
        "ft=np.array([9.0,2.0,2,8.0,4.0,7.0,8.0,3,1,4]).reshape(-1,1)\n",
        "\n",
        "\n",
        "y=[295.2,375.2,132.4,273,393.6,418.1,401.8,633.4,301.6,372.2]\n",
        "\n",
        "x_final=np.concatenate((d,ca,cs,cf), axis=1)\n",
        "\n",
        "res = sm.OLS(y, x_final).fit()\n",
        "\n",
        "# Façon 1\n",
        "res.aic "
      ],
      "metadata": {
        "id": "0i5qMgsf2wjI"
      },
      "execution_count": null,
      "outputs": []
    },
    {
      "cell_type": "code",
      "source": [
        ""
      ],
      "metadata": {
        "id": "7FiaITde2wl5"
      },
      "execution_count": null,
      "outputs": []
    },
    {
      "cell_type": "code",
      "source": [
        ""
      ],
      "metadata": {
        "id": "FnB6GMjR2woX"
      },
      "execution_count": null,
      "outputs": []
    },
    {
      "cell_type": "code",
      "source": [
        ""
      ],
      "metadata": {
        "id": "S00X1BKa2wrH"
      },
      "execution_count": null,
      "outputs": []
    },
    {
      "cell_type": "code",
      "source": [
        ""
      ],
      "metadata": {
        "id": "mqbZN-Yv2wtv"
      },
      "execution_count": null,
      "outputs": []
    },
    {
      "cell_type": "code",
      "source": [
        ""
      ],
      "metadata": {
        "id": "LBdWaH-c2wwX"
      },
      "execution_count": null,
      "outputs": []
    },
    {
      "cell_type": "code",
      "source": [
        ""
      ],
      "metadata": {
        "id": "P8eP8WCa2wzI"
      },
      "execution_count": null,
      "outputs": []
    },
    {
      "cell_type": "code",
      "source": [
        ""
      ],
      "metadata": {
        "id": "BBndAfnZ2w14"
      },
      "execution_count": null,
      "outputs": []
    },
    {
      "cell_type": "code",
      "source": [
        ""
      ],
      "metadata": {
        "id": "IHkoYaD92w4v"
      },
      "execution_count": null,
      "outputs": []
    },
    {
      "cell_type": "code",
      "source": [
        ""
      ],
      "metadata": {
        "id": "h0II7V-B2w7h"
      },
      "execution_count": null,
      "outputs": []
    }
  ]
}